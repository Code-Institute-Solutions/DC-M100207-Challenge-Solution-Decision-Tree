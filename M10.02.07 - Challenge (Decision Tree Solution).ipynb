{
 "cells": [
  {
   "cell_type": "markdown",
   "id": "2e42d166-091b-40a6-82cd-869f2a3ec565",
   "metadata": {},
   "source": [
    "# **Decision Tree: Predicting Loan Approval**\n",
    "\n",
    "## Scenario\n",
    "You are a data scientist at a financial institution tasked with developing a model to predict loan approval status. The insights derived from this model will help streamline the loan application process, ensuring faster and more accurate decisions.\n",
    "\n",
    "## Dataset Overview\n",
    "The dataset includes the following columns:\n",
    "- `Gender`: Gender of the applicant (`1` for male, `0` for female).\n",
    "- `Married`: Marital status (`1` for married, `0` for unmarried).\n",
    "- `Dependents`: Number of dependents the applicant has.\n",
    "- `Education`: Educational status (`1` for graduate, `0` for not graduate).\n",
    "- `Self_Employed`: Employment status (`1` for self-employed, `0` for not self-employed).\n",
    "- `ApplicantIncome`: Income of the primary applicant.\n",
    "- `CoapplicantIncome`: Income of the co-applicant.\n",
    "- `LoanAmount`: Loan amount requested (in thousands).\n",
    "- `Loan_Amount_Term`: Term of the loan (in days).\n",
    "- `Credit_History`: Credit history of the applicant (`1` for clear, `0` for poor history).\n",
    "- `Loan_Status`: Target variable; loan approval status (`1` for approved, `0` for not approved).\n",
    "\n",
    "## Your Challenge\n",
    "Build a **Decision Tree model** to predict whether a loan application will be approved (`Loan_Status`).\n",
    "\n",
    "## Why Decision Trees?\n",
    "Decision Trees are well-suited for this scenario because:\n",
    "1. They handle both categorical and numerical data, making them versatile for datasets with mixed data types.\n",
    "2. They provide a clear visual representation of the decision-making process, which is easy to interpret and explain to stakeholders.\n",
    "3. They effectively capture interactions between features, making them ideal for datasets with complex relationships.\n",
    "\n",
    "## Identifying Input and Target Variables\n",
    "- **Input Variables**: `Gender`, `Married`, `Dependents`, `Education`, `Self_Employed`, `ApplicantIncome`, `CoapplicantIncome`, `LoanAmount`, `Loan_Amount_Term`, `Credit_History`.\n",
    "- **Target Variable**: `Loan_Status`.\n",
    "\n"
   ]
  },
  {
   "cell_type": "markdown",
   "id": "2e3fb92d-8ef1-4518-b85f-dbc779548d3d",
   "metadata": {},
   "source": [
    "## Step 1: Import Libraries"
   ]
  },
  {
   "cell_type": "code",
   "execution_count": 4,
   "id": "bb2a01f6-2735-4c69-899e-d521746d6ea0",
   "metadata": {},
   "outputs": [],
   "source": [
    "import pandas as pd  # For data manipulation and analysis\n",
    "from sklearn.model_selection import train_test_split  # For splitting the dataset\n",
    "from sklearn.tree import DecisionTreeClassifier, plot_tree  # Decision Tree model and visualization\n",
    "from sklearn.metrics import accuracy_score, classification_report, confusion_matrix  # Evaluation metrics"
   ]
  },
  {
   "cell_type": "markdown",
   "id": "f74e2735-4da9-49fe-ab6b-67bd4a0c9c26",
   "metadata": {},
   "source": [
    "## Step 2: Load the Dataset"
   ]
  },
  {
   "cell_type": "code",
   "execution_count": 6,
   "id": "d1252989-1bfd-480d-a771-e17d2a908906",
   "metadata": {},
   "outputs": [
    {
     "name": "stdout",
     "output_type": "stream",
     "text": [
      "    Loan_ID  Gender  Married  Dependents  Education  Self_Employed  \\\n",
      "0  LP001003       1        1           1          1              0   \n",
      "1  LP001005       1        1           0          1              1   \n",
      "2  LP001006       1        1           0          0              0   \n",
      "3  LP001008       1        0           0          1              0   \n",
      "4  LP001013       1        1           0          0              0   \n",
      "\n",
      "   ApplicantIncome  CoapplicantIncome  LoanAmount  Loan_Amount_Term  \\\n",
      "0             4583             1508.0       12800               360   \n",
      "1             3000                0.0        6600               360   \n",
      "2             2583             2358.0       12000               360   \n",
      "3             6000                0.0       14100               360   \n",
      "4             2333             1516.0        9500               360   \n",
      "\n",
      "   Credit_History  Loan_Status  \n",
      "0               1            0  \n",
      "1               1            1  \n",
      "2               1            1  \n",
      "3               1            1  \n",
      "4               1            1  \n"
     ]
    }
   ],
   "source": [
    "# Load the dataset\n",
    "file_path = 'loan_data.csv'\n",
    "data = pd.read_csv(file_path)\n",
    "\n",
    "# Display the first few rows\n",
    "print(data.head())\n"
   ]
  },
  {
   "cell_type": "markdown",
   "id": "df385675-6f9e-471f-8fb0-2b987547f13d",
   "metadata": {},
   "source": [
    "## Step 3: Data Preparation"
   ]
  },
  {
   "cell_type": "code",
   "execution_count": 8,
   "id": "82183444-7692-47aa-a21f-902f7d6a31a7",
   "metadata": {},
   "outputs": [],
   "source": [
    "# Separate input features and target variable\n",
    "X = data[['Gender', 'Married', 'Dependents', 'Education', 'Self_Employed','ApplicantIncome','CoapplicantIncome','LoanAmount','Loan_Amount_Term','Credit_History']] # Input Variables\n",
    "y = data['Loan_Status'] # Target Variable\n",
    "\n",
    "# Split the dataset into training and testing sets\n",
    "X_train, X_test, y_train, y_test = train_test_split(X, y, test_size=0.3, random_state=42)\n"
   ]
  },
  {
   "cell_type": "markdown",
   "id": "83112725-7952-47b5-b482-cc7bedf07cac",
   "metadata": {},
   "source": [
    "## Step 4: Train the Model"
   ]
  },
  {
   "cell_type": "code",
   "execution_count": 10,
   "id": "fc726fff-ea23-4724-b82c-e0c28273a16e",
   "metadata": {},
   "outputs": [
    {
     "data": {
      "text/plain": [
       "[Text(0.3958333333333333, 0.9166666666666666, 'Credit_History <= 0.5\\ngini = 0.398\\nsamples = 215\\nvalue = [59, 156]\\nclass = 1'),\n",
       " Text(0.3541666666666667, 0.75, 'gini = 0.0\\nsamples = 28\\nvalue = [28, 0]\\nclass = 0'),\n",
       " Text(0.375, 0.8333333333333333, 'True  '),\n",
       " Text(0.4375, 0.75, 'CoapplicantIncome <= 768.0\\ngini = 0.277\\nsamples = 187\\nvalue = [31, 156]\\nclass = 1'),\n",
       " Text(0.41666666666666663, 0.8333333333333333, '  False'),\n",
       " Text(0.20833333333333334, 0.5833333333333334, 'Loan_Amount_Term <= 420.0\\ngini = 0.367\\nsamples = 91\\nvalue = [22, 69]\\nclass = 1'),\n",
       " Text(0.16666666666666666, 0.4166666666666667, 'LoanAmount <= 9550.0\\ngini = 0.339\\nsamples = 88\\nvalue = [19, 69]\\nclass = 1'),\n",
       " Text(0.08333333333333333, 0.25, 'LoanAmount <= 7800.0\\ngini = 0.45\\nsamples = 38\\nvalue = [13, 25]\\nclass = 1'),\n",
       " Text(0.041666666666666664, 0.08333333333333333, 'gini = 0.33\\nsamples = 24\\nvalue = [5, 19]\\nclass = 1'),\n",
       " Text(0.125, 0.08333333333333333, 'gini = 0.49\\nsamples = 14\\nvalue = [8, 6]\\nclass = 0'),\n",
       " Text(0.25, 0.25, 'LoanAmount <= 13250.0\\ngini = 0.211\\nsamples = 50\\nvalue = [6, 44]\\nclass = 1'),\n",
       " Text(0.20833333333333334, 0.08333333333333333, 'gini = 0.054\\nsamples = 36\\nvalue = [1, 35]\\nclass = 1'),\n",
       " Text(0.2916666666666667, 0.08333333333333333, 'gini = 0.459\\nsamples = 14\\nvalue = [5, 9]\\nclass = 1'),\n",
       " Text(0.25, 0.4166666666666667, 'gini = 0.0\\nsamples = 3\\nvalue = [3, 0]\\nclass = 0'),\n",
       " Text(0.6666666666666666, 0.5833333333333334, 'ApplicantIncome <= 4104.5\\ngini = 0.17\\nsamples = 96\\nvalue = [9, 87]\\nclass = 1'),\n",
       " Text(0.5, 0.4166666666666667, 'Loan_Amount_Term <= 240.0\\ngini = 0.096\\nsamples = 79\\nvalue = [4, 75]\\nclass = 1'),\n",
       " Text(0.4166666666666667, 0.25, 'ApplicantIncome <= 2918.0\\ngini = 0.5\\nsamples = 4\\nvalue = [2, 2]\\nclass = 0'),\n",
       " Text(0.375, 0.08333333333333333, 'gini = 0.0\\nsamples = 2\\nvalue = [2, 0]\\nclass = 0'),\n",
       " Text(0.4583333333333333, 0.08333333333333333, 'gini = 0.0\\nsamples = 2\\nvalue = [0, 2]\\nclass = 1'),\n",
       " Text(0.5833333333333334, 0.25, 'CoapplicantIncome <= 2184.0\\ngini = 0.052\\nsamples = 75\\nvalue = [2, 73]\\nclass = 1'),\n",
       " Text(0.5416666666666666, 0.08333333333333333, 'gini = 0.0\\nsamples = 47\\nvalue = [0, 47]\\nclass = 1'),\n",
       " Text(0.625, 0.08333333333333333, 'gini = 0.133\\nsamples = 28\\nvalue = [2, 26]\\nclass = 1'),\n",
       " Text(0.8333333333333334, 0.4166666666666667, 'ApplicantIncome <= 4595.5\\ngini = 0.415\\nsamples = 17\\nvalue = [5, 12]\\nclass = 1'),\n",
       " Text(0.75, 0.25, 'Dependents <= 0.5\\ngini = 0.49\\nsamples = 7\\nvalue = [4, 3]\\nclass = 0'),\n",
       " Text(0.7083333333333334, 0.08333333333333333, 'gini = 0.0\\nsamples = 2\\nvalue = [2, 0]\\nclass = 0'),\n",
       " Text(0.7916666666666666, 0.08333333333333333, 'gini = 0.48\\nsamples = 5\\nvalue = [2, 3]\\nclass = 1'),\n",
       " Text(0.9166666666666666, 0.25, 'Married <= 0.5\\ngini = 0.18\\nsamples = 10\\nvalue = [1, 9]\\nclass = 1'),\n",
       " Text(0.875, 0.08333333333333333, 'gini = 0.5\\nsamples = 2\\nvalue = [1, 1]\\nclass = 0'),\n",
       " Text(0.9583333333333334, 0.08333333333333333, 'gini = 0.0\\nsamples = 8\\nvalue = [0, 8]\\nclass = 1')]"
      ]
     },
     "execution_count": 10,
     "metadata": {},
     "output_type": "execute_result"
    },
    {
     "data": {
      "image/png": "[encoded data removed]",
      "text/plain": [
       "<Figure size 640x480 with 1 Axes>"
      ]
     },
     "metadata": {},
     "output_type": "display_data"
    }
   ],
   "source": [
    "# Initialise and train the decision tree model\n",
    "model = DecisionTreeClassifier(random_state=42, max_depth=5)\n",
    "model.fit(X_train, y_train)\n",
    "\n",
    "# Visualise the decision tree\n",
    "plot_tree(model, feature_names=X.columns, class_names=['0', '1'], filled=True)"
   ]
  },
  {
   "cell_type": "markdown",
   "id": "09e35481-66b1-4ead-94ac-8079de2d3586",
   "metadata": {},
   "source": [
    "## Step 5: Evaluate the Model"
   ]
  },
  {
   "cell_type": "code",
   "execution_count": 12,
   "id": "28f4c979-8d0c-475f-a479-8957a6986d7b",
   "metadata": {},
   "outputs": [
    {
     "name": "stdout",
     "output_type": "stream",
     "text": [
      "Accuracy: 0.74\n",
      "Confusion Matrix:\n",
      " [[15 15]\n",
      " [ 9 54]]\n",
      "Classification Report:\n",
      "               precision    recall  f1-score   support\n",
      "\n",
      "           0       0.62      0.50      0.56        30\n",
      "           1       0.78      0.86      0.82        63\n",
      "\n",
      "    accuracy                           0.74        93\n",
      "   macro avg       0.70      0.68      0.69        93\n",
      "weighted avg       0.73      0.74      0.73        93\n",
      "\n"
     ]
    }
   ],
   "source": [
    "# Make predictions\n",
    "y_pred = model.predict(X_test)\n",
    "\n",
    "# Calculate accuracy\n",
    "accuracy = accuracy_score(y_test, y_pred)\n",
    "print(f\"Accuracy: {accuracy:.2f}\")\n",
    "\n",
    "# Confusion matrix and classification report\n",
    "print(\"Confusion Matrix:\\n\", confusion_matrix(y_test, y_pred))\n",
    "print(\"Classification Report:\\n\", classification_report(y_test, y_pred))"
   ]
  },
  {
   "cell_type": "markdown",
   "id": "7a45259f-58b5-4443-b211-51b07f887992",
   "metadata": {},
   "source": [
    "### Result Interpretation \n",
    "The model has an accuracy of 0.74, which means it correctly predicts whether a loan should be approved or not in 74% of the cases."
   ]
  },
  {
   "cell_type": "markdown",
   "id": "0316bf3d-8dbf-4c32-bca4-a4ae69ba2b87",
   "metadata": {},
   "source": [
    "## Step 6: Make Predictions with New Data"
   ]
  },
  {
   "cell_type": "code",
   "execution_count": 15,
   "id": "fb61b196-ea7c-429b-b5b2-ee01126bc727",
   "metadata": {},
   "outputs": [
    {
     "data": {
      "text/html": [
       "<div>\n",
       "<style scoped>\n",
       "    .dataframe tbody tr th:only-of-type {\n",
       "        vertical-align: middle;\n",
       "    }\n",
       "\n",
       "    .dataframe tbody tr th {\n",
       "        vertical-align: top;\n",
       "    }\n",
       "\n",
       "    .dataframe thead th {\n",
       "        text-align: right;\n",
       "    }\n",
       "</style>\n",
       "<table border=\"1\" class=\"dataframe\">\n",
       "  <thead>\n",
       "    <tr style=\"text-align: right;\">\n",
       "      <th></th>\n",
       "      <th>Gender</th>\n",
       "      <th>Married</th>\n",
       "      <th>Dependents</th>\n",
       "      <th>Education</th>\n",
       "      <th>Self_Employed</th>\n",
       "      <th>ApplicantIncome</th>\n",
       "      <th>CoapplicantIncome</th>\n",
       "      <th>LoanAmount</th>\n",
       "      <th>Loan_Amount_Term</th>\n",
       "      <th>Credit_History</th>\n",
       "    </tr>\n",
       "  </thead>\n",
       "  <tbody>\n",
       "    <tr>\n",
       "      <th>0</th>\n",
       "      <td>1</td>\n",
       "      <td>1</td>\n",
       "      <td>1</td>\n",
       "      <td>0</td>\n",
       "      <td>1</td>\n",
       "      <td>10000</td>\n",
       "      <td>2000</td>\n",
       "      <td>14000</td>\n",
       "      <td>360</td>\n",
       "      <td>1</td>\n",
       "    </tr>\n",
       "    <tr>\n",
       "      <th>1</th>\n",
       "      <td>0</td>\n",
       "      <td>0</td>\n",
       "      <td>0</td>\n",
       "      <td>1</td>\n",
       "      <td>0</td>\n",
       "      <td>8000</td>\n",
       "      <td>8</td>\n",
       "      <td>3000</td>\n",
       "      <td>120</td>\n",
       "      <td>0</td>\n",
       "    </tr>\n",
       "  </tbody>\n",
       "</table>\n",
       "</div>"
      ],
      "text/plain": [
       "   Gender  Married  Dependents  Education  Self_Employed  ApplicantIncome  \\\n",
       "0       1        1           1          0              1            10000   \n",
       "1       0        0           0          1              0             8000   \n",
       "\n",
       "   CoapplicantIncome  LoanAmount  Loan_Amount_Term  Credit_History  \n",
       "0               2000       14000               360               1  \n",
       "1                  8        3000               120               0  "
      ]
     },
     "execution_count": 15,
     "metadata": {},
     "output_type": "execute_result"
    }
   ],
   "source": [
    "# Example new data for prediction\n",
    "new_data = pd.DataFrame({\n",
    "    'Gender': [1, 0],\n",
    "    'Married': [1, 0],\n",
    "    'Dependents': [1, 0],\n",
    "    'Education': [0, 1],\n",
    "    'Self_Employed': [1, 0],\n",
    "    'ApplicantIncome': [10000, 8000],\n",
    "    'CoapplicantIncome': [2000, 8],\n",
    "    'LoanAmount': [14000, 3000],\n",
    "    'Loan_Amount_Term': [360, 120],\n",
    "    'Credit_History':[1,0],\n",
    "})\n",
    "new_data\n"
   ]
  },
  {
   "cell_type": "markdown",
   "id": "df9ad7e7-bc4a-442f-9692-11d851f2f40e",
   "metadata": {},
   "source": [
    "- **Individual 1 (Row 1):**  \n",
    "  - **Gender:** Male (1)  \n",
    "  - **Married:** Yes (1)  \n",
    "  - **Dependents:** 1 dependent  \n",
    "  - **Education:** Not Graduate (0)  \n",
    "  - **Self Employed:** Yes (1)  \n",
    "  - **Applicant Income:** 10,000  \n",
    "  - **Coapplicant Income:** 2,000  \n",
    "  - **Loan Amount:** 14,000  \n",
    "  - **Loan Amount Term:** 360 months  \n",
    "  - **Credit History:** Clear (1)  "
   ]
  },
  {
   "cell_type": "markdown",
   "id": "a6cdd6f2-b5fc-4928-a008-83a74ce18a74",
   "metadata": {},
   "source": [
    "\n",
    "- **Individual 2 (Row 2):**  \n",
    "  - **Gender:** Female (0)  \n",
    "  - **Married:** No (0)  \n",
    "  - **Dependents:** No dependents (0)  \n",
    "  - **Education:** Graduate (1)  \n",
    "  - **Self Employed:** No (0)  \n",
    "  - **Applicant Income:** 8,000  \n",
    "  - **Coapplicant Income:** 8  \n",
    "  - **Loan Amount:** 3,000  \n",
    "  - **Loan Amount Term:** 120 months  \n",
    "  - **Credit History:** Poor (0)  \n"
   ]
  },
  {
   "cell_type": "code",
   "execution_count": 18,
   "id": "89ad57a4-2fc5-465b-baca-59a95ae2f0a9",
   "metadata": {},
   "outputs": [
    {
     "name": "stdout",
     "output_type": "stream",
     "text": [
      "Predicted Classes: [1 0]\n"
     ]
    }
   ],
   "source": [
    "# Predict the loan status for new data\n",
    "predicted_classes = model.predict(new_data)\n",
    "print(\"Predicted Classes:\", predicted_classes)"
   ]
  },
  {
   "cell_type": "markdown",
   "id": "800eee15-f02b-4930-9082-857688ab15c9",
   "metadata": {},
   "source": [
    "## What's Next?"
   ]
  },
  {
   "cell_type": "markdown",
   "id": "f85336ed-1d30-4932-be07-5b114da1fa55",
   "metadata": {},
   "source": [
    "Up next, we will learn about Random Forest, an advanced ensemble algorithm built on Decision Trees. It combines multiple decision trees to improve accuracy and robustness, making it a powerful tool for both classification and regression tasks. Stay tuned!"
   ]
  }
 ],
 "metadata": {
  "kernelspec": {
   "display_name": "Python 3 (ipykernel)",
   "language": "python",
   "name": "python3"
  },
  "language_info": {
   "codemirror_mode": {
    "name": "ipython",
    "version": 3
   },
   "file_extension": ".py",
   "mimetype": "text/x-python",
   "name": "python",
   "nbconvert_exporter": "python",
   "pygments_lexer": "ipython3",
   "version": "3.12.7"
  }
 },
 "nbformat": 4,
 "nbformat_minor": 5
}
